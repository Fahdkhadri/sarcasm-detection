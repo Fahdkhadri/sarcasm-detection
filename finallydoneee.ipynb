{
  "cells": [
    {
      "cell_type": "code",
      "execution_count": null,
      "metadata": {
        "id": "3qGJapv9ufzE"
      },
      "outputs": [],
      "source": [
        "import re\n",
        "import string\n",
        "import tensorflow as tf\n",
        "from transformers import BertTokenizer, TFBertModel, pipeline\n",
        "import pandas as pd\n",
        "from sklearn.model_selection import train_test_split\n",
        "from sklearn.metrics import confusion_matrix, classification_report, roc_curve, auc\n",
        "import matplotlib.pyplot as plt\n",
        "import seaborn as sns"
      ]
    },
    {
      "cell_type": "code",
      "execution_count": null,
      "metadata": {
        "id": "43m2YNCyvO1t"
      },
      "outputs": [],
      "source": [
        "# Load the datasets\n",
        "def load_data(train_path, valid_path, test_path):\n",
        "    train_data = pd.read_json(train_path)\n",
        "    valid_data = pd.read_json(valid_path)\n",
        "    test_data = pd.read_json(test_path)\n",
        "    return train_data, valid_data, test_data\n",
        "\n",
        "train_data, valid_data, test_data = load_data(\n",
        "    '/content/sample_data/sarcdatatrain.json',\n",
        "    '/content/sample_data/sarcdatavalid.json',\n",
        "    '/content/sample_data/sarcdatatest.json'\n",
        ")"
      ]
    },
    {
      "cell_type": "code",
      "execution_count": null,
      "metadata": {
        "id": "g1J4GMdgvdQB"
      },
      "outputs": [],
      "source": [
        "\n",
        "# Combine train and validation datasets for training\n",
        "data = pd.concat([train_data, valid_data], ignore_index=True)\n"
      ]
    },
    {
      "cell_type": "code",
      "execution_count": null,
      "metadata": {
        "id": "H3m8kw_Mvf7I"
      },
      "outputs": [],
      "source": [
        "# Clean text function\n",
        "def clean_text(sentence):\n",
        "    sentence = sentence.lower()\n",
        "    sentence = re.sub(r'https?://\\S+|www\\.\\S+', '', sentence)  # Remove URLs\n",
        "    sentence = re.sub(r'<.*?>', '', sentence)  # Remove HTML tags\n",
        "    sentence = re.sub(r'[%s]' % re.escape(string.punctuation), '', sentence)  # Remove punctuation\n",
        "    sentence = re.sub(r'\\n', '', sentence)  # Remove newlines\n",
        "    return sentence\n"
      ]
    },
    {
      "cell_type": "code",
      "execution_count": null,
      "metadata": {
        "id": "KVrc8uANvhrE"
      },
      "outputs": [],
      "source": [
        "\n",
        "# Apply cleaning\n",
        "data['cleaned_text'] = data['text'].apply(clean_text)\n",
        "test_data['cleaned_text'] = test_data['text'].apply(clean_text)\n"
      ]
    },
    {
      "cell_type": "code",
      "execution_count": null,
      "metadata": {
        "colab": {
          "base_uri": "https://localhost:8080/"
        },
        "id": "p109VXHAvklV",
        "outputId": "6b9bd80e-5a88-445e-d508-a7d18dbfd972"
      },
      "outputs": [
        {
          "name": "stderr",
          "output_type": "stream",
          "text": [
            "Some weights of the PyTorch model were not used when initializing the TF 2.0 model TFBertModel: ['cls.predictions.transform.LayerNorm.weight', 'cls.predictions.bias', 'cls.seq_relationship.bias', 'cls.predictions.transform.LayerNorm.bias', 'cls.predictions.transform.dense.bias', 'cls.seq_relationship.weight', 'cls.predictions.transform.dense.weight']\n",
            "- This IS expected if you are initializing TFBertModel from a PyTorch model trained on another task or with another architecture (e.g. initializing a TFBertForSequenceClassification model from a BertForPreTraining model).\n",
            "- This IS NOT expected if you are initializing TFBertModel from a PyTorch model that you expect to be exactly identical (e.g. initializing a TFBertForSequenceClassification model from a BertForSequenceClassification model).\n",
            "All the weights of TFBertModel were initialized from the PyTorch model.\n",
            "If your task is similar to the task the model of the checkpoint was trained on, you can already use TFBertModel for predictions without further training.\n"
          ]
        }
      ],
      "source": [
        "\n",
        "# Load BERT tokenizer and model also ignoring case sensitvity\n",
        "tokenizer = BertTokenizer.from_pretrained('bert-base-uncased')\n",
        "bert_model = TFBertModel.from_pretrained('bert-base-uncased')\n"
      ]
    },
    {
      "cell_type": "code",
      "execution_count": null,
      "metadata": {
        "id": "i3IY8iqCvmec"
      },
      "outputs": [],
      "source": [
        "# Function to encode texts\n",
        "def encode_texts(texts):\n",
        "    return tokenizer(\n",
        "        texts.tolist(),#converts into list\n",
        "        max_length=64, #64 tokens\n",
        "        padding='max_length',\n",
        "        truncation=True,\n",
        "        return_tensors='tf'\n",
        "    )\n",
        "\n",
        "encoded_train = encode_texts(data['cleaned_text'])\n",
        "encoded_test = encode_texts(test_data['cleaned_text'])\n"
      ]
    },
    {
      "cell_type": "code",
      "execution_count": null,
      "metadata": {
        "id": "faR2BWxdvqv8"
      },
      "outputs": [],
      "source": [
        "# Train-test split\n",
        "X_train = encoded_train['input_ids']\n",
        "X_test = encoded_test['input_ids']\n",
        "attention_train = encoded_train['attention_mask']\n",
        "attention_test = encoded_test['attention_mask']\n",
        "y_train = data['label'].values\n",
        "y_test = test_data['label'].values\n"
      ]
    },
    {
      "cell_type": "code",
      "execution_count": null,
      "metadata": {
        "id": "rWr7jHygvuEg"
      },
      "outputs": [],
      "source": [
        "# Build the model\n",
        "input_ids = tf.keras.Input(shape=(64,), dtype=tf.int32, name='input_ids')\n",
        "attention_masks = tf.keras.Input(shape=(64,), dtype=tf.int32, name='attention_mask')\n",
        "\n",
        "bert_output = bert_model([input_ids, attention_masks])\n",
        "x = bert_output.pooler_output #pooler_output: A 768-dimensional vector summarizing the input.\n",
        "x = tf.keras.layers.Dense(128, activation='relu')(x) #desnse layer: learns intermediate patterns\n",
        "x = tf.keras.layers.Dropout(0.3)(x) # prevents overfitting\n",
        "output = tf.keras.layers.Dense(1, activation='sigmoid')(x)\n",
        "\n",
        "model = tf.keras.Model(inputs=[input_ids, attention_masks], outputs=output)\n",
        "model.compile(optimizer=tf.keras.optimizers.Adam(learning_rate=2e-5),\n",
        "              loss='binary_crossentropy', metrics=['accuracy'])\n"
      ]
    },
    {
      "cell_type": "code",
      "execution_count": null,
      "metadata": {
        "colab": {
          "background_save": true,
          "base_uri": "https://localhost:8080/"
        },
        "id": "yT_aaZ49vwko",
        "outputId": "34e04a67-babb-4533-e8ab-cc8f6ac02d47"
      },
      "outputs": [
        {
          "name": "stdout",
          "output_type": "stream",
          "text": [
            "Epoch 1/5\n",
            "618/618 [==============================] - 250s 404ms/step - loss: 0.0332 - accuracy: 0.9891 - val_loss: 0.7566 - val_accuracy: 0.8310\n",
            "Epoch 2/5\n",
            "618/618 [==============================] - 248s 401ms/step - loss: 0.0270 - accuracy: 0.9902 - val_loss: 0.8513 - val_accuracy: 0.8355\n",
            "Epoch 3/5\n",
            "618/618 [==============================] - 248s 401ms/step - loss: 0.0206 - accuracy: 0.9929 - val_loss: 0.9036 - val_accuracy: 0.8314\n",
            "Epoch 4/5\n",
            "618/618 [==============================] - 248s 401ms/step - loss: 0.0191 - accuracy: 0.9933 - val_loss: 0.8950 - val_accuracy: 0.8251\n",
            "Epoch 5/5\n",
            "618/618 [==============================] - 248s 401ms/step - loss: 0.0180 - accuracy: 0.9937 - val_loss: 0.9577 - val_accuracy: 0.8310\n"
          ]
        }
      ],
      "source": [
        "# Train the model\n",
        "history = model.fit(\n",
        "    [X_train, attention_train], y_train,\n",
        "    validation_split=0.1,\n",
        "    epochs=5,\n",
        "    batch_size=32,\n",
        ")\n"
      ]
    },
    {
      "cell_type": "code",
      "execution_count": null,
      "metadata": {
        "colab": {
          "background_save": true
        },
        "id": "JQtskbuUv0bQ"
      },
      "outputs": [],
      "source": [
        "\n",
        "# Evaluate the model\n",
        "loss, accuracy = model.evaluate([X_test, attention_test], y_test)\n",
        "print(f\"Test Accuracy: {accuracy * 100:.2f}%\")\n"
      ]
    },
    {
      "cell_type": "code",
      "execution_count": null,
      "metadata": {
        "colab": {
          "background_save": true
        },
        "id": "hMDuwXjDwaEE"
      },
      "outputs": [],
      "source": [
        "# Plot accuracy and loss\n",
        "def plot_graph.s(history, metric):\n",
        "    plt.plot(history.history[metric])\n",
        "    plt.plot(history.history['val_' + metric])\n",
        "    plt.xlabel(\"Epochs\")\n",
        "    plt.ylabel(metric.capitalize())\n",
        "    plt.legend([metric.capitalize(), 'Val_' + metric.capitalize()])\n",
        "    plt.show()\n"
      ]
    },
    {
      "cell_type": "code",
      "execution_count": null,
      "metadata": {
        "colab": {
          "background_save": true
        },
        "id": "Pq0bjFZjwdSp"
      },
      "outputs": [],
      "source": [
        "plot_graphs(history, 'accuracy')\n",
        "plot_graphs(history, 'loss')\n"
      ]
    },
    {
      "cell_type": "code",
      "execution_count": null,
      "metadata": {
        "colab": {
          "background_save": true
        },
        "id": "VIY_F5M6wdPH"
      },
      "outputs": [],
      "source": [
        "# Confusion Matrix\n",
        "y_pred = (model.predict([X_test, attention_test]) > 0.5).astype(int)\n",
        "cm = confusion_matrix(y_test, y_pred)\n",
        "plt.figure(figsize=(8,6))\n",
        "sns.heatmap(cm, annot=True, fmt='d', cmap='Blues')\n",
        "plt.title('Confusion Matrix')\n",
        "plt.xlabel('Predicted')\n",
        "plt.ylabel('Actual')\n",
        "plt.show()\n"
      ]
    },
    {
      "cell_type": "code",
      "execution_count": null,
      "metadata": {
        "colab": {
          "background_save": true
        },
        "id": "dEFsPvk2wdLn"
      },
      "outputs": [],
      "source": [
        "# Classification Report\n",
        "print(classification_report(y_test, y_pred))\n"
      ]
    },
    {
      "cell_type": "code",
      "execution_count": null,
      "metadata": {
        "colab": {
          "background_save": true
        },
        "id": "nEKJCZAgwdIn"
      },
      "outputs": [],
      "source": [
        "# ROC Curve\n",
        "fpr, tpr, thresholds = roc_curve(y_test, y_pred)\n",
        "roc_auc = auc(fpr, tpr)\n",
        "plt.figure(figsize=(8,6))\n",
        "plt.plot(fpr, tpr, color='darkorange', lw=2, label='ROC curve (area = %0.2f)' % roc_auc)\n",
        "plt.plot([0, 1], [0, 1], color='navy', lw=2, linestyle='--')\n",
        "plt.xlim([0.0, 1.0])\n",
        "plt.ylim([0.0, 1.05])\n",
        "plt.xlabel('False Positive Rate')\n",
        "plt.ylabel('True Positive Rate')\n",
        "plt.title('ROC Curve')\n",
        "plt.legend(loc=\"lower right\")\n",
        "plt.show()\n"
      ]
    },
    {
      "cell_type": "code",
      "execution_count": null,
      "metadata": {
        "colab": {
          "background_save": true
        },
        "id": "OmY7wkhzwdFa"
      },
      "outputs": [],
      "source": [
        "\n",
        "# Sentiment Analysis Pipeline\n",
        "sentiment_pipeline = pipeline(\"sentiment-analysis\")\n"
      ]
    },
    {
      "cell_type": "code",
      "execution_count": null,
      "metadata": {
        "colab": {
          "background_save": true
        },
        "id": "Dw7wxSfHwdCO"
      },
      "outputs": [],
      "source": [
        "# Function for user input and predictions\n",
        "def predict_sarcasm_and_sentiment():\n",
        "    input_sentence = input(\"Enter a sentence: \")\n",
        "    cleaned_sentence = clean_text(input_sentence)\n",
        "\n",
        "    # Sarcasm Prediction\n",
        "    encoded_input = tokenizer(\n",
        "        [cleaned_sentence],\n",
        "        max_length=64,\n",
        "        padding='max_length',\n",
        "        truncation=True,\n",
        "        return_tensors='tf'\n",
        "    )\n",
        "    sarcasm_prediction = model.predict([encoded_input['input_ids'], encoded_input['attention_mask']])\n",
        "    if sarcasm_prediction[0][0] > 0.5:\n",
        "        print(\"Sarcasm Detection: Sarcastic\")\n",
        "    else:\n",
        "        print(\"Sarcasm Detection: Not Sarcastic\")\n",
        "\n",
        "    # Sentiment Analysis\n",
        "    sentiment_result = sentiment_pipeline(input_sentence)\n",
        "    print(f\"Sentiment Analysis: {sentiment_result[0]['label']}\")\n"
      ]
    },
    {
      "cell_type": "code",
      "execution_count": null,
      "metadata": {
        "colab": {
          "background_save": true
        },
        "id": "0qBT_Q4fwc_J"
      },
      "outputs": [],
      "source": [
        "\n",
        "# Run prediction\n",
        "predict_sarcasm_and_sentiment()\n"
      ]
    },
    {
      "cell_type": "code",
      "execution_count": null,
      "metadata": {
        "colab": {
          "background_save": true
        },
        "id": "8t3giVHkwc77"
      },
      "outputs": [],
      "source": []
    }
  ],
  "metadata": {
    "accelerator": "GPU",
    "colab": {
      "gpuType": "T4",
      "provenance": []
    },
    "kernelspec": {
      "display_name": "Python 3",
      "name": "python3"
    },
    "language_info": {
      "name": "python"
    }
  },
  "nbformat": 4,
  "nbformat_minor": 0
}